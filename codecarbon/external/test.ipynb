{
 "cells": [
  {
   "cell_type": "code",
   "execution_count": 1,
   "metadata": {},
   "outputs": [],
   "source": [
    "import re\n",
    "scontrol_str = \"\"\"\n",
    "scontrol show job $SLURM_JOBID\n",
    "JobId=XXXX JobName=gpu-jupyterhub\n",
    "   UserId=XXXX GroupId=XXXX MCS_label=N/A\n",
    "   Priority=255342 Nice=0 Account=puk@v100 QOS=qos_gpu-t3\n",
    "   JobState=RUNNING Reason=None Dependency=(null)\n",
    "   Requeue=1 Restarts=0 BatchFlag=1 Reboot=0 ExitCode=0:0\n",
    "   RunTime=00:33:42 TimeLimit=08:00:00 TimeMin=N/A\n",
    "   SubmitTime=2023-10-23T10:45:25 EligibleTime=2023-10-23T10:45:25\n",
    "   AccrueTime=2023-10-23T10:45:25\n",
    "   StartTime=2023-10-23T10:45:35 EndTime=2023-10-23T18:45:35 Deadline=N/A\n",
    "   SuspendTime=None SecsPreSuspend=0 LastSchedEval=2023-10-23T10:45:35 Scheduler=Main\n",
    "   Partition=gpu_p13 AllocNode:Sid=idrsrv12-ib0:500994\n",
    "   ReqNodeList=(null) ExcNodeList=(null)\n",
    "   NodeList=r13i5n0\n",
    "   BatchHost=r13i5n0\n",
    "   NumNodes=1 NumCPUs=64 NumTasks=1 CPUs/Task=32 ReqB:S:C:T=0:0:*:1\n",
    "   ReqTRES=cpu=32,mem=128G,node=1,billing=40,gres/gpu=4\n",
    "   AllocTRES=cpu=64,mem=128G,node=1,billing=40,gres/gpu=4\n",
    "   Socks/Node=* NtasksPerN:B:S:C=0:0:*:* CoreSpec=*\n",
    "   MinCPUsNode=32 MinMemoryCPU=4G MinTmpDiskNode=0\n",
    "   Features=v100-16g DelayBoot=00:00:00\n",
    "   OverSubscribe=OK Contiguous=0 Licenses=(null) Network=(null)\n",
    "   Command=(null)\n",
    "   WorkDir=/linkhome/rech/gendxh01/uei48xr\n",
    "   StdErr=/linkhome/rech/gendxh01/uei48xr/jupyterhub_slurm.err\n",
    "   StdIn=/dev/null\n",
    "   StdOut=/linkhome/rech/gendxh01/uei48xr/jupyterhub_slurm.out\n",
    "   Power=\n",
    "   TresPerNode=gres:gpu:4\n",
    "   \"\"\"\n",
    "mem_matches = re.findall(r\"mem=\\d+[A-Z]\", scontrol_str)"
   ]
  },
  {
   "cell_type": "code",
   "execution_count": 2,
   "metadata": {},
   "outputs": [
    {
     "data": {
      "text/plain": [
       "['mem=128G', 'mem=128G']"
      ]
     },
     "execution_count": 2,
     "metadata": {},
     "output_type": "execute_result"
    }
   ],
   "source": [
    "mem_matches"
   ]
  },
  {
   "cell_type": "code",
   "execution_count": null,
   "metadata": {},
   "outputs": [],
   "source": []
  }
 ],
 "metadata": {
  "kernelspec": {
   "display_name": ".venv",
   "language": "python",
   "name": "python3"
  },
  "language_info": {
   "codemirror_mode": {
    "name": "ipython",
    "version": 3
   },
   "file_extension": ".py",
   "mimetype": "text/x-python",
   "name": "python",
   "nbconvert_exporter": "python",
   "pygments_lexer": "ipython3",
   "version": "3.8.12"
  }
 },
 "nbformat": 4,
 "nbformat_minor": 2
}
